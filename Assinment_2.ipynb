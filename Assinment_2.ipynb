{
 "cells": [
  {
   "attachments": {},
   "cell_type": "markdown",
   "metadata": {},
   "source": [
    "# Assignment 2"
   ]
  },
  {
   "attachments": {},
   "cell_type": "markdown",
   "metadata": {},
   "source": [
    "**Please follow the instructions. Do not add new cell! Write your code in designated areas.**"
   ]
  },
  {
   "cell_type": "code",
   "execution_count": 1,
   "metadata": {},
   "outputs": [
    {
     "name": "stdout",
     "output_type": "stream",
     "text": [
      "Assignment 1 & 2: Solutions by John\n",
      "Local Time: 2024-01-31 09:59:14\n",
      "Computer ID: Ruhids-MacBook-Pro.local\n"
     ]
    }
   ],
   "source": [
    "import datetime\n",
    "import socket\n",
    "\n",
    "# Get local time\n",
    "local_time = datetime.datetime.now().strftime(\"%Y-%m-%d %H:%M:%S\")\n",
    "\n",
    "# Get computer ID or hostname\n",
    "computer_id = socket.gethostname()\n",
    "\n",
    "# Print output with local time and computer ID\n",
    "print('Assignment 1 & 2: Solutions by John') # Please change your name here\n",
    "print('Local Time:', local_time)\n",
    "print('Computer ID:', computer_id)"
   ]
  },
  {
   "attachments": {},
   "cell_type": "markdown",
   "metadata": {},
   "source": [
    "## NumPy"
   ]
  },
  {
   "attachments": {},
   "cell_type": "markdown",
   "metadata": {},
   "source": [
    "1. Create a 2D numpy array of size 4x5 with random integers between 1 and 10. Find the maximum value of the entire array. \n"
   ]
  },
  {
   "cell_type": "code",
   "execution_count": 15,
   "metadata": {},
   "outputs": [
    {
     "name": "stdout",
     "output_type": "stream",
     "text": [
      "[[ 9  4  4  5  3]\n",
      " [ 3  3  3  2  5]\n",
      " [ 4 10 10  5  2]\n",
      " [ 1  3  3  5  6]]\n",
      "10\n"
     ]
    }
   ],
   "source": [
    "## Your code here down\n",
    "import numpy as np\n",
    "arr = np.random.randint(1, 11, size=(4,5))\n",
    "\n",
    "print(arr)\n",
    "\n",
    "print(np.max(arr))\n",
    "\n",
    "\n",
    "# print(mean)\n",
    "#print(std) and so on\n",
    "## Your code here up"
   ]
  },
  {
   "attachments": {},
   "cell_type": "markdown",
   "metadata": {},
   "source": [
    "2. Create a 1D numpy array of size 20 with random floats between 0 and 1. Reshape the array into a 4x5 matrix. Compute the mean of each row."
   ]
  },
  {
   "cell_type": "code",
   "execution_count": 18,
   "metadata": {},
   "outputs": [],
   "source": [
    "## Your code here down\n",
    "\n",
    "arr = np.random.rand(20)\n",
    "\n",
    "arr = arr.reshape(4,5)\n",
    "## Your code here up\n",
    "\n",
    "row_means = np.mean(arr, axis=1)\n"
   ]
  },
  {
   "attachments": {},
   "cell_type": "markdown",
   "metadata": {},
   "source": [
    "3. Create a 2D numpy array of size 5x5 with random integers between 1 and 100. Compute standard deviation of each column."
   ]
  },
  {
   "cell_type": "code",
   "execution_count": 19,
   "metadata": {},
   "outputs": [
    {
     "name": "stdout",
     "output_type": "stream",
     "text": [
      "[[11 97  9 73 81]\n",
      " [11 72 33  8 55]\n",
      " [92 37 26 45 59]\n",
      " [39 54 64 82 95]\n",
      " [26 64 17 73 49]]\n"
     ]
    }
   ],
   "source": [
    "## Your code here down\n",
    "arr = np.random.randint(1, 101, size=(5, 5))\n",
    "\n",
    "print(arr)\n",
    "\n",
    "column_std = np.std(arr, axis=0)\n",
    "\n",
    "\n",
    "## Your code here up"
   ]
  },
  {
   "attachments": {},
   "cell_type": "markdown",
   "metadata": {},
   "source": [
    "4. Create a 1D numpy array of size 15 with random floats between -10 and 10. Replace all negative values with their absolute values."
   ]
  },
  {
   "cell_type": "code",
   "execution_count": 21,
   "metadata": {},
   "outputs": [],
   "source": [
    "## Your code here down\n",
    "\n",
    "arr = np.random.uniform(-10, 10, size=15)\n",
    "arr = np.abs(arr)\n",
    "\n",
    "## Your code here up"
   ]
  },
  {
   "attachments": {},
   "cell_type": "markdown",
   "metadata": {},
   "source": [
    "5. Create a 2D numpy array of size 3x4 with random integers between 1 and 100. Calculate the sum of all elements in the array."
   ]
  },
  {
   "cell_type": "code",
   "execution_count": 22,
   "metadata": {},
   "outputs": [],
   "source": [
    "## Your code here down\n",
    "\n",
    "random_array = np.random.randint(1, 101, size=(3, 4))\n",
    "array_sum = np.sum(random_array)\n",
    "\n",
    "## Your code here up"
   ]
  },
  {
   "attachments": {},
   "cell_type": "markdown",
   "metadata": {},
   "source": [
    "7. Create a 2D numpy array of size 4x6 with random floats between 0 and 1. Normalize each column by subtracting the column mean and dividing by the column standard deviation."
   ]
  },
  {
   "cell_type": "code",
   "execution_count": 28,
   "metadata": {},
   "outputs": [
    {
     "name": "stdout",
     "output_type": "stream",
     "text": [
      "[[ 1.33491429  1.12976045 -0.63900289  0.23718245 -0.64441162  1.59446886]\n",
      " [-1.43195721 -1.45742217  0.44677447  0.93173181 -1.07865459 -0.95185882]\n",
      " [-0.23677989  0.68626785  1.39488132  0.50926132  0.17715041 -0.73673251]\n",
      " [ 0.33382281 -0.35860613 -1.2026529  -1.67817557  1.5459158   0.09412247]]\n"
     ]
    }
   ],
   "source": [
    "## Your code here down\n",
    "arr = np.random.rand(24)\n",
    "arr = arr.reshape(4,6)\n",
    "\n",
    "column_means = np.mean(arr, axis=0)\n",
    "column_stds = np.std(arr, axis=0)\n",
    "\n",
    "normalized_array = (arr - column_means) / column_stds\n",
    "\n",
    "print(normalized_array)\n",
    "\n",
    "## Your code here up"
   ]
  },
  {
   "attachments": {},
   "cell_type": "markdown",
   "metadata": {},
   "source": [
    "8. Create a 2D numpy array of size 10x10 with random integers between 1 and 100. Replace all values greater than 50 with 1 and all other values with 0."
   ]
  },
  {
   "cell_type": "code",
   "execution_count": 32,
   "metadata": {},
   "outputs": [
    {
     "name": "stdout",
     "output_type": "stream",
     "text": [
      "[[1 0 1 0 1 1 1 1 1 0]\n",
      " [0 0 1 0 1 0 0 1 0 0]\n",
      " [0 1 0 1 1 0 1 0 0 1]\n",
      " [1 0 0 1 0 0 0 0 0 0]\n",
      " [1 0 0 0 0 0 1 1 0 0]\n",
      " [1 0 0 0 1 1 0 0 0 1]\n",
      " [1 0 1 1 0 0 1 1 1 0]\n",
      " [0 0 0 1 0 1 0 0 1 0]\n",
      " [0 0 1 1 1 0 1 1 0 1]\n",
      " [1 1 0 1 1 0 0 0 1 0]]\n"
     ]
    }
   ],
   "source": [
    "## Your code here down\n",
    "\n",
    "arr = np.random.randint(1,100, size=100)\n",
    "arr= arr.reshape(10,10)\n",
    "\n",
    "res = np.where(arr > 50, 1, 0)\n",
    "print(res)\n",
    "\n",
    "## Your code here up"
   ]
  },
  {
   "attachments": {},
   "cell_type": "markdown",
   "metadata": {},
   "source": [
    "9. Create a 1D numpy array of size 50 with random floats between 0 and 1. Find the number of elements greater than 0.5."
   ]
  },
  {
   "cell_type": "code",
   "execution_count": 33,
   "metadata": {},
   "outputs": [],
   "source": [
    "## Your code here down\n",
    "\n",
    "random_array = np.random.rand(50)\n",
    "count_greater_than_05 = np.sum(random_array > 0.5)\n",
    "\n",
    "## Your code here up"
   ]
  },
  {
   "attachments": {},
   "cell_type": "markdown",
   "metadata": {},
   "source": [
    "10. Create a 2D numpy array of size 5x5 with random floats between -1 and 1. Find the absolute difference between the maximum and minimum values in each row."
   ]
  },
  {
   "cell_type": "code",
   "execution_count": 34,
   "metadata": {},
   "outputs": [
    {
     "name": "stdout",
     "output_type": "stream",
     "text": [
      "[[ 0.85017567  0.74331562  0.51176674 -0.2311128   0.3534544 ]\n",
      " [-0.57649097 -0.2529293  -0.34061581  0.298481   -0.82967155]\n",
      " [ 0.17080883  0.6776917   0.74100426  0.34430275 -0.37308711]\n",
      " [-0.28489083  0.47882463  0.81481287 -0.46027095 -0.76366369]\n",
      " [-0.6141248  -0.12525455  0.94994572  0.01022471 -0.06171103]]\n",
      "[1.08128847 1.12815256 1.11409137 1.57847656 1.56407052]\n"
     ]
    }
   ],
   "source": [
    "## Your code here down\n",
    "random_array = np.random.uniform(-1, 1, size=(5, 5))\n",
    "print(random_array)\n",
    "\n",
    "abs_diff_max_min_per_row = np.abs(np.max(random_array, axis=1) - np.min(random_array, axis=1))\n",
    "\n",
    "print(abs_diff_max_min_per_row)\n",
    "\n",
    "## Your code here up"
   ]
  },
  {
   "attachments": {},
   "cell_type": "markdown",
   "metadata": {},
   "source": [
    "## Pandas"
   ]
  },
  {
   "attachments": {},
   "cell_type": "markdown",
   "metadata": {},
   "source": [
    "Please refer the dataframe (farm data) we have created in the training. Please copy that cell and paste it below before starting this part. "
   ]
  },
  {
   "cell_type": "code",
   "execution_count": 61,
   "metadata": {},
   "outputs": [],
   "source": [
    "import random\n",
    "import pandas as pd\n",
    "\n",
    "# Define the range for longitude and latitude\n",
    "lon_range = (-105, -100)\n",
    "lat_range = (50, 52)\n",
    "\n",
    "# Define the list of soil types\n",
    "soil_types = ['black', 'gray', 'dark brown', 'brown', None]\n",
    "\n",
    "# Create an empty list to store the farms\n",
    "farms = []\n",
    "\n",
    "# Generate 40 farms\n",
    "for i in range(1000):\n",
    "    farm = {\n",
    "        'farm_name': f'Farm {i+1}', # f is formated string\n",
    "        'farm_lon': round(random.uniform(lon_range[0], lon_range[1]), 2), # random lon with 2 decimal points\n",
    "        'farm_lat': round(random.uniform(lat_range[0], lat_range[1]), 2), # rantom lat with 2 decimal points\n",
    "        'temperature': round(random.uniform(18, 33), 1), #random temp with 1 decimal points\n",
    "        'precipitation': round(random.uniform(20, 90), 1), # random prec with 1 decimal points\n",
    "        'soil_type': random.choice(soil_types) # random soil types from above list\n",
    "    }\n",
    "    farms.append(farm)"
   ]
  },
  {
   "cell_type": "code",
   "execution_count": 62,
   "metadata": {},
   "outputs": [],
   "source": [
    "df = pd.DataFrame(farms)"
   ]
  },
  {
   "attachments": {},
   "cell_type": "markdown",
   "metadata": {},
   "source": [
    "1. Select the rows where the temperature is above 20 degrees Celsius."
   ]
  },
  {
   "cell_type": "code",
   "execution_count": 41,
   "metadata": {},
   "outputs": [
    {
     "name": "stdout",
     "output_type": "stream",
     "text": [
      "     farm_name  farm_lon  farm_lat  temperature  precipitation   soil_type\n",
      "0       Farm 1   -101.26     50.94         21.7           57.9       brown\n",
      "1       Farm 2   -104.28     51.39         20.2           67.4  dark brown\n",
      "2       Farm 3   -101.76     51.92         28.2           36.4  dark brown\n",
      "4       Farm 5   -101.26     51.72         28.4           82.4        None\n",
      "5       Farm 6   -103.93     51.69         24.2           29.9  dark brown\n",
      "..         ...       ...       ...          ...            ...         ...\n",
      "994   Farm 995   -102.64     51.38         27.1           82.7       black\n",
      "996   Farm 997   -103.77     50.54         27.8           70.5       brown\n",
      "997   Farm 998   -103.00     50.22         25.8           34.9        None\n",
      "998   Farm 999   -104.99     50.16         20.8           64.9       black\n",
      "999  Farm 1000   -104.67     51.81         25.6           52.0       black\n",
      "\n",
      "[872 rows x 6 columns]\n"
     ]
    }
   ],
   "source": [
    "## Your code here down\n",
    "\n",
    "above_20_df = df[df['temperature'] > 20]\n",
    "\n",
    "print(above_20_df)\n",
    "## Your code here up"
   ]
  },
  {
   "attachments": {},
   "cell_type": "markdown",
   "metadata": {},
   "source": [
    "2. Sort the DataFrame by precipitation in descending order."
   ]
  },
  {
   "cell_type": "code",
   "execution_count": 63,
   "metadata": {},
   "outputs": [
    {
     "name": "stdout",
     "output_type": "stream",
     "text": [
      "farm_name         object\n",
      "farm_lon         float64\n",
      "farm_lat         float64\n",
      "temperature      float64\n",
      "precipitation    float64\n",
      "soil_type         object\n",
      "dtype: object\n"
     ]
    }
   ],
   "source": [
    "## Your code here down\n",
    "sorted_df = df.sort_values(by='precipitation', ascending=False)\n",
    "\n",
    "\n",
    "## Your code here up"
   ]
  },
  {
   "attachments": {},
   "cell_type": "markdown",
   "metadata": {},
   "source": [
    "3. Filter the DataFrame to include only the farms located within latitude (51.15 & 51.00) range."
   ]
  },
  {
   "cell_type": "code",
   "execution_count": 64,
   "metadata": {},
   "outputs": [
    {
     "name": "stdout",
     "output_type": "stream",
     "text": [
      "    farm_name  farm_lon  farm_lat  temperature  precipitation soil_type\n",
      "2      Farm 3   -101.94     51.12         29.1           36.4     brown\n",
      "4      Farm 5   -104.86     51.13         25.0           62.4     brown\n",
      "7      Farm 8   -101.14     51.14         26.9           31.7     black\n",
      "18    Farm 19   -101.46     51.14         31.0           58.0      None\n",
      "49    Farm 50   -102.49     51.15         29.0           84.2     black\n",
      "..        ...       ...       ...          ...            ...       ...\n",
      "947  Farm 948   -100.22     51.09         20.2           25.9      None\n",
      "966  Farm 967   -104.72     51.06         23.8           39.7     black\n",
      "967  Farm 968   -104.37     51.01         29.0           62.3      None\n",
      "972  Farm 973   -103.43     51.01         22.2           50.4     brown\n",
      "989  Farm 990   -104.09     51.08         22.1           33.4      gray\n",
      "\n",
      "[83 rows x 6 columns]\n"
     ]
    }
   ],
   "source": [
    "## Your code here down\n",
    "\n",
    "filtered_df = df[(df['farm_lat'] >= 51.00) & (df['farm_lat'] <= 51.15)]\n",
    "\n",
    "print(filtered_df)\n",
    "## Your code here up"
   ]
  },
  {
   "attachments": {},
   "cell_type": "markdown",
   "metadata": {},
   "source": [
    " 4. Calculate the standard deviation of precipitation for each soil type."
   ]
  },
  {
   "cell_type": "code",
   "execution_count": 46,
   "metadata": {},
   "outputs": [
    {
     "name": "stdout",
     "output_type": "stream",
     "text": [
      "soil_type\n",
      "black         19.970200\n",
      "brown         19.551065\n",
      "dark brown    19.370962\n",
      "gray          20.173981\n",
      "Name: precipitation, dtype: float64\n"
     ]
    }
   ],
   "source": [
    "## Your code here down\n",
    "std_precipitation_by_soil = df.groupby('soil_type')['precipitation'].std()\n",
    "\n",
    "## Your code here up"
   ]
  },
  {
   "attachments": {},
   "cell_type": "markdown",
   "metadata": {},
   "source": [
    "5. Calculate the cumulative sum of precipitation for each soil type."
   ]
  },
  {
   "cell_type": "code",
   "execution_count": 65,
   "metadata": {},
   "outputs": [
    {
     "name": "stdout",
     "output_type": "stream",
     "text": [
      "farm_name         object\n",
      "farm_lon         float64\n",
      "farm_lat         float64\n",
      "temperature      float64\n",
      "precipitation    float64\n",
      "soil_type         object\n",
      "dtype: object\n"
     ]
    }
   ],
   "source": [
    "## Your code here down\n",
    "cumulative_precipitation_by_soil = df.groupby('soil_type')['precipitation'].cumsum()\n",
    "\n",
    "\n",
    "## Your code here up"
   ]
  },
  {
   "attachments": {},
   "cell_type": "markdown",
   "metadata": {},
   "source": [
    "6. Determine the top 3 farms with the highest average temperature."
   ]
  },
  {
   "cell_type": "code",
   "execution_count": 66,
   "metadata": {},
   "outputs": [
    {
     "name": "stdout",
     "output_type": "stream",
     "text": [
      "farm_name         object\n",
      "farm_lon         float64\n",
      "farm_lat         float64\n",
      "temperature      float64\n",
      "precipitation    float64\n",
      "soil_type         object\n",
      "dtype: object\n"
     ]
    }
   ],
   "source": [
    "## Your code here down\n",
    "\n",
    "farm_temp = df.groupby('farm_name')['temperature'].mean()\n",
    "\n",
    "sorted_farms = farm_temp.sort_values(ascending=False)\n",
    "\n",
    "res = sorted_farms.head(3)\n",
    "\n",
    "\n",
    "\n",
    "## Your code here up"
   ]
  },
  {
   "attachments": {},
   "cell_type": "markdown",
   "metadata": {},
   "source": [
    "7. Find famrs in each soil type that have the highest temperature."
   ]
  },
  {
   "cell_type": "code",
   "execution_count": 51,
   "metadata": {},
   "outputs": [
    {
     "name": "stdout",
     "output_type": "stream",
     "text": [
      "    farm_name  farm_lon  farm_lat  temperature  precipitation   soil_type\n",
      "134  Farm 135   -103.05     50.11         32.7           76.9       black\n",
      "948  Farm 949   -104.21     50.97         32.8           64.4       brown\n",
      "264  Farm 265   -104.37     50.69         33.0           77.1  dark brown\n",
      "519  Farm 520   -100.74     51.11         33.0           27.5        gray\n"
     ]
    }
   ],
   "source": [
    "## Your code here down\n",
    "max_temp_index_per_soil = df.groupby('soil_type')['temperature'].idxmax()\n",
    "\n",
    "farms_with_highest_temp_per_soil = df.loc[max_temp_index_per_soil]\n",
    "\n",
    "print(farms_with_highest_temp_per_soil)\n",
    "\n",
    "## Your code here up"
   ]
  },
  {
   "attachments": {},
   "cell_type": "markdown",
   "metadata": {},
   "source": [
    "8. Create new column 'percentage_tot_prec' and add the percentage contribution of each farm's precipitation (relative to total precipitation) to the column."
   ]
  },
  {
   "cell_type": "code",
   "execution_count": 67,
   "metadata": {},
   "outputs": [
    {
     "name": "stdout",
     "output_type": "stream",
     "text": [
      "farm_name               object\n",
      "farm_lon               float64\n",
      "farm_lat               float64\n",
      "temperature            float64\n",
      "precipitation          float64\n",
      "soil_type               object\n",
      "percentage_tot_prec    float64\n",
      "dtype: object\n"
     ]
    }
   ],
   "source": [
    "## Your code here down\n",
    "total_precipitation = df['precipitation'].sum()\n",
    "\n",
    "df['percentage_tot_prec'] = (df['precipitation'] / total_precipitation) * 100\n",
    "\n",
    "\n",
    "## Your code here up"
   ]
  },
  {
   "attachments": {},
   "cell_type": "markdown",
   "metadata": {},
   "source": [
    "9. Create a new column called \"precipitation_rank\" that ranks the farms based on their precipitation in ascending order, with ties being assigned the same rank."
   ]
  },
  {
   "cell_type": "code",
   "execution_count": 70,
   "metadata": {},
   "outputs": [],
   "source": [
    "## Your code here down\n",
    "df['precipitation_rank'] = df['precipitation'].rank(method='min')\n",
    "\n",
    "## Your code here up"
   ]
  },
  {
   "attachments": {},
   "cell_type": "markdown",
   "metadata": {},
   "source": [
    "10. Normalize the temperature column to a range between 0 and 1 for each farm."
   ]
  },
  {
   "cell_type": "code",
   "execution_count": 71,
   "metadata": {},
   "outputs": [],
   "source": [
    "## Your code here down\n",
    "df['normalized_temperature'] = (df['temperature'] - df['temperature'].min()) / (df['temperature'].max() - df['temperature'].min())\n",
    "\n",
    "\n",
    "## Your code here up"
   ]
  },
  {
   "cell_type": "markdown",
   "metadata": {},
   "source": [
    "## ETL"
   ]
  },
  {
   "cell_type": "markdown",
   "metadata": {},
   "source": [
    "11. Change column types accordingly."
   ]
  },
  {
   "cell_type": "code",
   "execution_count": 75,
   "metadata": {},
   "outputs": [
    {
     "name": "stdout",
     "output_type": "stream",
     "text": [
      "     farm_name  farm_lon  farm_lat  temperature  precipitation soil_type  \\\n",
      "0       Farm 1   -102.30     50.70         23.2           81.9     brown   \n",
      "1       Farm 2   -102.57     50.54         30.2           22.3      None   \n",
      "2       Farm 3   -101.94     51.12         29.1           36.4     brown   \n",
      "3       Farm 4   -103.33     50.07         23.9           37.6     black   \n",
      "4       Farm 5   -104.86     51.13         25.0           62.4     brown   \n",
      "..         ...       ...       ...          ...            ...       ...   \n",
      "995   Farm 996   -102.90     51.23         25.8           42.8     brown   \n",
      "996   Farm 997   -103.23     51.27         26.5           63.5      gray   \n",
      "997   Farm 998   -103.77     50.40         23.4           46.0      gray   \n",
      "998   Farm 999   -104.93     51.93         21.3           41.1      gray   \n",
      "999  Farm 1000   -103.08     51.27         18.3           38.3      None   \n",
      "\n",
      "     percentage_tot_prec  precipitation_rank  normalized_temperature  \n",
      "0               0.150550                 894                0.346667  \n",
      "1               0.040992                  39                0.813333  \n",
      "2               0.066911                 236                0.740000  \n",
      "3               0.069117                 260                0.393333  \n",
      "4               0.114705                 620                0.466667  \n",
      "..                   ...                 ...                     ...  \n",
      "995             0.078676                 333                0.520000  \n",
      "996             0.116727                 640                0.566667  \n",
      "997             0.084558                 386                0.360000  \n",
      "998             0.075551                 313                0.220000  \n",
      "999             0.070404                 274                0.020000  \n",
      "\n",
      "[1000 rows x 9 columns]\n"
     ]
    }
   ],
   "source": [
    "## Your code here down\n",
    "\n",
    "df['temperature'] = df['temperature'].astype(float)  \n",
    "df['precipitation'] = df['precipitation'].astype(float)  \n",
    "df['farm_lon'] = df['farm_lon'].astype(float)  \n",
    "df['farm_lat'] = df['farm_lat'].astype(float)  \n",
    "df['percentage_tot_prec'] = df['percentage_tot_prec'].astype(float)  \n",
    "df['normalized_temperature'] = df['normalized_temperature'].astype(float)  \n",
    "df['precipitation_rank'] = df['precipitation_rank'].astype(int)\n",
    "## Your code here up\n",
    "print(df)\n"
   ]
  },
  {
   "cell_type": "markdown",
   "metadata": {},
   "source": [
    "## EDA"
   ]
  },
  {
   "cell_type": "markdown",
   "metadata": {},
   "source": [
    "12. Find missing values and give information how would you handle them"
   ]
  },
  {
   "cell_type": "code",
   "execution_count": 83,
   "metadata": {},
   "outputs": [
    {
     "name": "stdout",
     "output_type": "stream",
     "text": [
      "farm_name                   0\n",
      "farm_lon                    0\n",
      "farm_lat                    0\n",
      "temperature                 0\n",
      "precipitation               0\n",
      "soil_type                 209\n",
      "percentage_tot_prec         0\n",
      "precipitation_rank          0\n",
      "normalized_temperature      0\n",
      "dtype: int64\n"
     ]
    }
   ],
   "source": [
    "## Your code here down\n",
    "\n",
    "missing_values = df.isna().sum()\n",
    "\n",
    "# 1. Drop rows with missing values\n",
    "# df.dropna(inplace=True)\n",
    "\n",
    "# 2. Fill missing values with a specific value\n",
    "# df.fillna(value, inplace=True)\n",
    "\n",
    "\n",
    "print(missing_values)\n",
    "\n",
    "\n",
    "## Your code here up"
   ]
  },
  {
   "cell_type": "markdown",
   "metadata": {},
   "source": [
    "13. Find outliers if there is any how would you handle them"
   ]
  },
  {
   "cell_type": "code",
   "execution_count": 86,
   "metadata": {},
   "outputs": [],
   "source": [
    "## Your code here down\n",
    "from scipy import stats\n",
    "\n",
    "\n",
    "z_scores = stats.zscore(df.select_dtypes(include=['float64', 'int64']))\n",
    "\n",
    "threshold = 3\n",
    "outlier_indices = (abs(z_scores) > threshold).any(axis=1)\n",
    "\n",
    "outliers = df[outlier_indices]\n",
    "\n",
    "## Your code here up"
   ]
  },
  {
   "cell_type": "markdown",
   "metadata": {},
   "source": [
    "14. Find descriptive statistics for relavant columns and plot them by using bars."
   ]
  },
  {
   "cell_type": "code",
   "execution_count": null,
   "metadata": {},
   "outputs": [],
   "source": [
    "## Your code here down\n",
    "\n",
    "\n",
    "## Your code here up"
   ]
  },
  {
   "cell_type": "code",
   "execution_count": null,
   "metadata": {},
   "outputs": [],
   "source": []
  },
  {
   "cell_type": "markdown",
   "metadata": {},
   "source": [
    "15. Plot the distribution of relevant columns."
   ]
  },
  {
   "cell_type": "code",
   "execution_count": 89,
   "metadata": {},
   "outputs": [
    {
     "name": "stdout",
     "output_type": "stream",
     "text": [
      "      temperature  precipitation\n",
      "mean    25.105800      54.400400\n",
      "std      4.289535      20.190147\n",
      "min     18.000000      20.000000\n",
      "25%     21.400000      36.900000\n",
      "50%     24.950000      53.950000\n",
      "75%     28.900000      71.625000\n",
      "max     33.000000      89.800000\n"
     ]
    },
    {
     "data": {
      "image/png": "[encoded data removed]",
      "text/plain": [
       "<Figure size 1000x600 with 1 Axes>"
      ]
     },
     "metadata": {},
     "output_type": "display_data"
    }
   ],
   "source": [
    "## Your code here down\n",
    "import matplotlib.pyplot as plt\n",
    "\n",
    "\n",
    "relevant_columns = ['temperature', 'precipitation']\n",
    "\n",
    "descriptive_stats = df[relevant_columns].describe().drop('count')\n",
    "\n",
    "print(descriptive_stats)\n",
    "\n",
    "descriptive_stats.plot(kind='bar', figsize=(10, 6))\n",
    "plt.title('Descriptive Statistics of Relevant Columns')\n",
    "plt.xlabel('Statistics')\n",
    "plt.ylabel('Values')\n",
    "plt.xticks(rotation=0)\n",
    "plt.grid(axis='y')\n",
    "plt.legend(title='Column')\n",
    "plt.show()\n",
    "## Your code here up"
   ]
  }
 ],
 "metadata": {
  "kernelspec": {
   "display_name": "Python 3",
   "language": "python",
   "name": "python3"
  },
  "language_info": {
   "codemirror_mode": {
    "name": "ipython",
    "version": 3
   },
   "file_extension": ".py",
   "mimetype": "text/x-python",
   "name": "python",
   "nbconvert_exporter": "python",
   "pygments_lexer": "ipython3",
   "version": "3.11.5"
  },
  "orig_nbformat": 4
 },
 "nbformat": 4,
 "nbformat_minor": 2
}
